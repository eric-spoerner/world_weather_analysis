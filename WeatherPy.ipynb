{
 "cells": [
  {
   "cell_type": "code",
   "execution_count": 2,
   "id": "c82fc7ea-68c0-495f-b0a9-4c2ae800d635",
   "metadata": {},
   "outputs": [],
   "source": [
    "# to do:\n",
    "# add a repeatable block to get > 500 records if initial pull did not \n",
    "# enhance exceptions handling\n",
    "# export printing of results into written log txt\n",
    "# migrate unfound cities and status codes into separate df\n",
    "# ISO Code Lookup on countries\n",
    "# How to integrate state/province where appropriate?\n",
    "# Visible low humidity in deserts"
   ]
  },
  {
   "cell_type": "code",
   "execution_count": 3,
   "id": "71daff4b-cdc9-4b40-8d69-da56fd50e16c",
   "metadata": {},
   "outputs": [
    {
     "ename": "ModuleNotFoundError",
     "evalue": "No module named 'matplotlib'",
     "output_type": "error",
     "traceback": [
      "\u001b[1;31m---------------------------------------------------------------------------\u001b[0m",
      "\u001b[1;31mModuleNotFoundError\u001b[0m                       Traceback (most recent call last)",
      "\u001b[1;32m~\\AppData\\Local\\Temp/ipykernel_14984/2673219769.py\u001b[0m in \u001b[0;36m<module>\u001b[1;34m\u001b[0m\n\u001b[0;32m      1\u001b[0m \u001b[1;32mimport\u001b[0m \u001b[0mpandas\u001b[0m \u001b[1;32mas\u001b[0m \u001b[0mpd\u001b[0m\u001b[1;33m\u001b[0m\u001b[1;33m\u001b[0m\u001b[0m\n\u001b[1;32m----> 2\u001b[1;33m \u001b[1;32mimport\u001b[0m \u001b[0mmatplotlib\u001b[0m\u001b[1;33m.\u001b[0m\u001b[0mpyplot\u001b[0m \u001b[1;32mas\u001b[0m \u001b[0mplt\u001b[0m\u001b[1;33m\u001b[0m\u001b[1;33m\u001b[0m\u001b[0m\n\u001b[0m\u001b[0;32m      3\u001b[0m \u001b[1;32mimport\u001b[0m \u001b[0mnumpy\u001b[0m \u001b[1;32mas\u001b[0m \u001b[0mnp\u001b[0m\u001b[1;33m\u001b[0m\u001b[1;33m\u001b[0m\u001b[0m\n\u001b[0;32m      4\u001b[0m \u001b[1;32mfrom\u001b[0m \u001b[0mcitipy\u001b[0m \u001b[1;32mimport\u001b[0m \u001b[0mcitipy\u001b[0m\u001b[1;33m\u001b[0m\u001b[1;33m\u001b[0m\u001b[0m\n\u001b[0;32m      5\u001b[0m \u001b[1;32mimport\u001b[0m \u001b[0mtime\u001b[0m\u001b[1;33m\u001b[0m\u001b[1;33m\u001b[0m\u001b[0m\n",
      "\u001b[1;31mModuleNotFoundError\u001b[0m: No module named 'matplotlib'"
     ]
    }
   ],
   "source": [
    "import pandas as pd\n",
    "import matplotlib.pyplot as plt\n",
    "import numpy as np\n",
    "from citipy import citipy\n",
    "import time\n",
    "import requests\n",
    "from datetime import datetime\n",
    "from config import weather_api_key\n",
    "import string\n",
    "from scipy.stats import linregress"
   ]
  },
  {
   "cell_type": "code",
   "execution_count": null,
   "id": "0fcb14ce-6b5a-44f1-8f92-9fecb16d78a1",
   "metadata": {},
   "outputs": [],
   "source": [
    "lats = np.random.uniform(low=-90, high=90, size=1500)\n",
    "longs = np.random.uniform(low=-180, high=90, size=1500)\n",
    "lat_longs = zip(lats, longs)\n",
    "lat_longs"
   ]
  },
  {
   "cell_type": "code",
   "execution_count": null,
   "id": "822f6ac2-e33e-4811-9fa4-4fe7702f6e6b",
   "metadata": {},
   "outputs": [],
   "source": [
    "base_url = \"http://api.openweathermap.org/data/2.5/weather?units=Imperial&appid=\" + weather_api_key"
   ]
  },
  {
   "cell_type": "code",
   "execution_count": null,
   "id": "f62a8d22-b601-4261-baa8-6361f26fdc67",
   "metadata": {
    "tags": []
   },
   "outputs": [],
   "source": [
    "coordinates = list(lat_longs)\n",
    "cities = list()\n",
    "\n",
    "for coordinate in coordinates:\n",
    "    city = citipy.nearest_city(latitude=coordinate[0], longitude=coordinate[1])\n",
    "    if string.capwords(city.city_name) not in cities:\n",
    "        cities.append(string.capwords(city.city_name)) # capitalizing all names since they came through in lowercase.  source https://favtutor.com/blogs/capitalize-first-letter-python\n",
    "        \n",
    "len(cities)"
   ]
  },
  {
   "cell_type": "code",
   "execution_count": null,
   "id": "c8411bd0-98cd-47a3-9b33-e95514d130e0",
   "metadata": {
    "tags": []
   },
   "outputs": [],
   "source": [
    "city_data = list()\n",
    "\n",
    "\n",
    "print(\"Beginning Data Retrieval\")\n",
    "print(\"-------------------------------------\")\n",
    "\n",
    "record_count = 1\n",
    "set_count = 1\n",
    "\n",
    "for i, city in enumerate(cities):\n",
    "    # group cities in sets of 50 for logging purposes\n",
    "    if (i % 50 == 0 and i >= 50):\n",
    "        set_count+=1\n",
    "        record_count = 1\n",
    "        # time.sleep(60) # delay execution for 60 seconds.  But why?\n",
    "        \n",
    "    city_url = base_url + \"&q=\" + city.replace(\" \",\"+\")\n",
    "    \n",
    "    print(f\"Processing Record {record_count} of set {set_count} | {city}\")\n",
    "    \n",
    "    record_count += 1\n",
    "    \n",
    "    try:\n",
    "        #extract the JSON data using API URL\n",
    "        city_weather = requests.get(city_url).json()\n",
    "        # print(city_url)\n",
    "        # print(city_weather)\n",
    "        \n",
    "        #parse out data points\n",
    "        city_lat = city_weather[\"coord\"][\"lat\"]\n",
    "        city_long = city_weather[\"coord\"][\"lon\"]\n",
    "        city_max_temp = city_weather[\"main\"][\"temp_max\"]\n",
    "        city_humidity = city_weather[\"main\"][\"humidity\"]\n",
    "        city_clouds = city_weather[\"clouds\"][\"all\"]\n",
    "        city_wind = city_weather[\"wind\"][\"speed\"]\n",
    "        city_country = city_weather[\"sys\"][\"country\"]\n",
    "        \n",
    "        #convert datetime to ISO\n",
    "        city_date = datetime.utcfromtimestamp(city_weather[\"dt\"]).strftime('%Y-%m-%d %H:%M:%S')\n",
    "        \n",
    "        #add to list\n",
    "        city_data.append({\"City\": city,\n",
    "                          \"Lat\": city_lat,\n",
    "                          \"Long\": city_long,\n",
    "                          \"Max Temp\": city_max_temp,\n",
    "                          \"Humidity\": city_humidity,\n",
    "                          \"Cloudiness\": city_clouds,\n",
    "                          \"Wind Speed\": city_wind,\n",
    "                          \"Country\": city_country,\n",
    "                          \"Date\": city_date\n",
    "                           })\n",
    "        \n",
    "        print(f\"{city} processed successfully.\")\n",
    "        \n",
    "    except:\n",
    "        #Change me later to print out the error!\n",
    "        \n",
    "        status_code = requests.get(city_url).status_code\n",
    "        \n",
    "        if status_code == 404:\n",
    "            print(f\"ERROR: City {city} not found.\")\n",
    "        else:\n",
    "            print(f\"ERROR: City {city} not processed. StatusCode: {status_code}\")\n",
    "        pass\n",
    "    \n",
    "print(\"-------------------------------------\")\n",
    "print(\"Data Retrieval Complete!\")\n",
    "print(\"-------------------------------------\")"
   ]
  },
  {
   "cell_type": "code",
   "execution_count": null,
   "id": "cc2ab75a-8267-4933-8c14-884de359a39c",
   "metadata": {},
   "outputs": [],
   "source": [
    "city_data_df = pd.DataFrame(city_data)\n",
    "city_data_df"
   ]
  },
  {
   "cell_type": "code",
   "execution_count": null,
   "id": "2a5e1a02-35be-4fa3-8209-22476d6be0dc",
   "metadata": {},
   "outputs": [],
   "source": [
    "column_order = [\"City\", \"Country\", \"Date\", \"Lat\", \"Long\", \"Max Temp\", \"Humidity\", \"Cloudiness\", \"Wind Speed\"]\n",
    "city_data_df = city_data_df[column_order]\n",
    "city_data_df"
   ]
  },
  {
   "cell_type": "code",
   "execution_count": null,
   "id": "f65199ad-d2b7-43e0-9ebc-08cfeeacc508",
   "metadata": {},
   "outputs": [],
   "source": [
    "import os.path\n",
    "output_data_file = os.path.join(\"weather_data\", \"cities.csv\")\n",
    "city_data_df.to_csv(output_data_file, index_label=\"City_ID\")"
   ]
  },
  {
   "cell_type": "code",
   "execution_count": null,
   "id": "94153176-8d11-429c-a417-7833d083dd8a",
   "metadata": {},
   "outputs": [],
   "source": []
  },
  {
   "cell_type": "markdown",
   "id": "275a3067-03d1-4d6b-9aed-211506ec796e",
   "metadata": {},
   "source": [
    "## Plotting climate charts"
   ]
  },
  {
   "cell_type": "code",
   "execution_count": null,
   "id": "86592447-af71-4016-95c2-6530e287f63a",
   "metadata": {},
   "outputs": [],
   "source": [
    "lats = city_data_df[\"Lat\"]\n",
    "max_temps = city_data_df[\"Max Temp\"]\n",
    "humidity = city_data_df[\"Humidity\"]\n",
    "cloudiness = city_data_df[\"Cloudiness\"]\n",
    "wind_speed = city_data_df[\"Wind Speed\"]\n",
    "\n",
    "today = datetime.utcfromtimestamp(time.time()).strftime(\"%x\")"
   ]
  },
  {
   "cell_type": "code",
   "execution_count": null,
   "id": "f6e75ad7-3075-4d1a-aa4a-3f4bcc1567ab",
   "metadata": {},
   "outputs": [],
   "source": [
    "plt.scatter(x = lats,\n",
    "            y = max_temps,\n",
    "           edgecolor = \"black\",\n",
    "           linewidths=1,\n",
    "           marker=\"o\",\n",
    "           alpha=0.8,\n",
    "           label=\"Cities\")\n",
    "\n",
    "plt.title(f\"Maximum Temperature by City Latitude on {today}\")\n",
    "plt.xlabel(\"Latitude\")\n",
    "plt.ylabel(\"Maximum Temperature\")\n",
    "\n",
    "plt.savefig(\"weather_data/Fig1.png\")\n",
    "\n",
    "plt.show()"
   ]
  },
  {
   "cell_type": "code",
   "execution_count": null,
   "id": "d6410352-347e-4b06-adca-b1957e96966c",
   "metadata": {},
   "outputs": [],
   "source": [
    "plt.scatter(x = lats,\n",
    "            y = humidity,\n",
    "           edgecolor = \"black\",\n",
    "           linewidths=1,\n",
    "           marker=\"o\",\n",
    "           alpha=0.8,\n",
    "           label=\"Cities\")\n",
    "\n",
    "plt.title(f\"Humidity by City Latitude on {today}\")\n",
    "plt.xlabel(\"Latitude\")\n",
    "plt.ylabel(\"% Humidity\")\n",
    "\n",
    "plt.savefig(\"weather_data/Fig2.png\")\n",
    "\n",
    "plt.show()"
   ]
  },
  {
   "cell_type": "code",
   "execution_count": null,
   "id": "aa6ac715-184e-4ec1-8eb7-bc0c2b39fa59",
   "metadata": {},
   "outputs": [],
   "source": [
    "plt.scatter(x = lats,\n",
    "            y = cloudiness,\n",
    "           edgecolor = \"black\",\n",
    "           linewidths=1,\n",
    "           marker=\"o\",\n",
    "           alpha=0.8,\n",
    "           label=\"Cities\")\n",
    "\n",
    "plt.title(f\"Cloudiness by City Latitude on {today}\")\n",
    "plt.xlabel(\"Latitude\")\n",
    "plt.ylabel(\"% Cloudiness\")\n",
    "\n",
    "plt.savefig(\"weather_data/Fig3.png\")\n",
    "\n",
    "plt.show()"
   ]
  },
  {
   "cell_type": "code",
   "execution_count": null,
   "id": "4cfc5360-7458-44dc-ada5-71b9bcea2c5b",
   "metadata": {},
   "outputs": [],
   "source": [
    "plt.scatter(x = lats,\n",
    "            y = wind_speed,\n",
    "           edgecolor = \"black\",\n",
    "           linewidths=1,\n",
    "           marker=\"o\",\n",
    "           alpha=0.8,\n",
    "           label=\"Cities\")\n",
    "\n",
    "plt.title(f\"Wind Speed by City Latitude on {today}\")\n",
    "plt.xlabel(\"Latitude\")\n",
    "plt.ylabel(\"Wind Speed (mph)\")\n",
    "\n",
    "plt.savefig(\"weather_data/Fig4.png\")\n",
    "\n",
    "plt.show()"
   ]
  },
  {
   "cell_type": "markdown",
   "id": "907490db-8e93-466d-a29f-7db6af9e8f6a",
   "metadata": {},
   "source": [
    "## Linear regression of collected data\n",
    "\n",
    "Start by creating function."
   ]
  },
  {
   "cell_type": "code",
   "execution_count": null,
   "id": "63ff9090-8569-4a7f-a157-8040c584405b",
   "metadata": {},
   "outputs": [],
   "source": [
    "def plot_linear_regression(x_values, y_values, title, y_label, text_coordinates):\n",
    "    #Run linear regression against value inputs\n",
    "    (slope, intercept, r_value, p_value, std_err) = linregress(x_values, y_values)\n",
    "    \n",
    "    # Calculate regression line\n",
    "    regress_values = x_values * slope + intercept\n",
    "    \n",
    "    # Create equation\n",
    "    line_eq = \"y = \" + str(round(slope,2)) + \"x + \" + str(round(intercept,2))\n",
    "    \n",
    "    # create scatter plot and reg line\n",
    "    plt.scatter(x=x_values,y=y_values)\n",
    "    plt.plot(x_values,regress_values,\"r\")\n",
    "    plt.ylabel(y_label)\n",
    "    plt.annotate(line_eq, text_coordinates, fontsize=15, color=\"red\")\n",
    "    plt.title(title)\n",
    "    plt.xlabel(\"Latitude\")\n",
    "    \n",
    "    plt.show()\n",
    "    \n",
    "    print(f\"r = {r_value}\\np = {p_value}\\nstd error = {std_err}\")"
   ]
  },
  {
   "cell_type": "markdown",
   "id": "a5b988cd-bf06-4cc7-bda7-8062e7ee0a61",
   "metadata": {},
   "source": [
    "### Separate latitudes by hemisphere"
   ]
  },
  {
   "cell_type": "code",
   "execution_count": null,
   "id": "6899e2ec-6301-4a04-9daf-4c3487b80086",
   "metadata": {},
   "outputs": [],
   "source": [
    "index13 = city_data_df.loc[13]\n",
    "index13"
   ]
  },
  {
   "cell_type": "code",
   "execution_count": null,
   "id": "88534ce9-dced-42f0-a7a8-7120aacb463b",
   "metadata": {},
   "outputs": [],
   "source": [
    "#boolean expression meant to filter dataframe in loc.  Think where clause\n",
    "city_data_df[\"Lat\"] >= 0"
   ]
  },
  {
   "cell_type": "code",
   "execution_count": null,
   "id": "6d933d7b-37b8-4f05-8dd4-1e6a25ec2332",
   "metadata": {},
   "outputs": [],
   "source": [
    "northern_hemi_df = city_data_df.loc[(city_data_df[\"Lat\"] >= 0)]\n",
    "southern_hemi_df = city_data_df.loc[(city_data_df[\"Lat\"] < 0)]\n",
    "southern_hemi_df.head()"
   ]
  },
  {
   "cell_type": "code",
   "execution_count": null,
   "id": "4d068bba-bdca-4ceb-8ff6-2ab4ac207ef9",
   "metadata": {},
   "outputs": [],
   "source": [
    "x_values = northern_hemi_df[\"Lat\"]\n",
    "y_values = northern_hemi_df[\"Max Temp\"]\n",
    "\n",
    "plot_linear_regression(x_values,\n",
    "                       y_values,\n",
    "                       'Linear regresion on the Northern Hemisphere \\n for Maximum Temperature',\n",
    "                       'Max Temp',\n",
    "                       (0,0))"
   ]
  },
  {
   "cell_type": "code",
   "execution_count": null,
   "id": "a1eef795-6812-4d94-b17f-7be347ac43e1",
   "metadata": {},
   "outputs": [],
   "source": [
    "x_values = southern_hemi_df[\"Lat\"]\n",
    "y_values = southern_hemi_df[\"Max Temp\"]\n",
    "\n",
    "plot_linear_regression(x_values,\n",
    "                       y_values,\n",
    "                       'Linear regresion on the Southern Hemisphere \\n for Maximum Temperature',\n",
    "                       'Max Temp',\n",
    "                       (-50,80))"
   ]
  },
  {
   "cell_type": "code",
   "execution_count": null,
   "id": "61c1d63e-dbdf-4f4a-a4e7-ab4863424ecd",
   "metadata": {},
   "outputs": [],
   "source": [
    "x_values = northern_hemi_df[\"Lat\"]\n",
    "y_values = northern_hemi_df[\"Humidity\"]\n",
    "\n",
    "plot_linear_regression(x_values,\n",
    "                       y_values,\n",
    "                       'Linear regresion on the Northern Hemisphere \\n for % Humidity',\n",
    "                       '% Humidity',\n",
    "                       (40,20))"
   ]
  },
  {
   "cell_type": "code",
   "execution_count": null,
   "id": "43cd7bb8-3baa-4627-a02d-2d85fb4b91fa",
   "metadata": {},
   "outputs": [],
   "source": [
    "x_values = southern_hemi_df[\"Lat\"]\n",
    "y_values = southern_hemi_df[\"Humidity\"]\n",
    "\n",
    "plot_linear_regression(x_values,\n",
    "                       y_values,\n",
    "                       'Linear regresion on the Southern Hemisphere \\n for % Humidity',\n",
    "                       '% Humidity',\n",
    "                       (-30,50))"
   ]
  },
  {
   "cell_type": "code",
   "execution_count": null,
   "id": "c72e3876-7630-4fba-9362-36ed0cb6a6d1",
   "metadata": {},
   "outputs": [],
   "source": [
    "x_values = northern_hemi_df[\"Lat\"]\n",
    "y_values = northern_hemi_df[\"Cloudiness\"]\n",
    "\n",
    "plot_linear_regression(x_values,\n",
    "                       y_values,\n",
    "                       'Linear regression on the Northern Hemisphere \\n for % Cloudiness',\n",
    "                       '% Humidity',\n",
    "                       (40,50))"
   ]
  },
  {
   "cell_type": "code",
   "execution_count": null,
   "id": "df468167-260f-4f34-bcdb-245956674b82",
   "metadata": {},
   "outputs": [],
   "source": [
    "x_values = southern_hemi_df[\"Lat\"]\n",
    "y_values = southern_hemi_df[\"Cloudiness\"]\n",
    "\n",
    "plot_linear_regression(x_values,\n",
    "                       y_values,\n",
    "                       'Linear regression on the Southern Hemisphere \\n for % Cloudiness',\n",
    "                       '% Humidity',\n",
    "                       (-55,50))"
   ]
  },
  {
   "cell_type": "code",
   "execution_count": null,
   "id": "068527a4-1ca5-404c-b610-59e4dfc5a668",
   "metadata": {},
   "outputs": [],
   "source": [
    "x_values = northern_hemi_df[\"Lat\"]\n",
    "y_values = northern_hemi_df[\"Wind Speed\"]\n",
    "\n",
    "plot_linear_regression(x_values,\n",
    "                       y_values,\n",
    "                       'Linear regression on the Northern Hemisphere \\n for Wind Speed',\n",
    "                       'Wind Speed',\n",
    "                       (0,35))"
   ]
  },
  {
   "cell_type": "code",
   "execution_count": null,
   "id": "47028808-9ef0-46fd-ad84-0c98e8d8a203",
   "metadata": {},
   "outputs": [],
   "source": [
    "x_values = southern_hemi_df[\"Lat\"]\n",
    "y_values = southern_hemi_df[\"Wind Speed\"]\n",
    "\n",
    "plot_linear_regression(x_values,\n",
    "                       y_values,\n",
    "                       'Linear regression on the Southern Hemisphere \\n for Wind Speed',\n",
    "                       'Wind Speed',\n",
    "                       (-40,20))"
   ]
  },
  {
   "cell_type": "code",
   "execution_count": null,
   "id": "68a4897f-448d-456d-b6a1-58b81fd414ae",
   "metadata": {},
   "outputs": [],
   "source": []
  },
  {
   "cell_type": "code",
   "execution_count": null,
   "id": "eeb5c98c-0163-44f9-a485-23f5dd7ce18c",
   "metadata": {},
   "outputs": [],
   "source": []
  }
 ],
 "metadata": {
  "kernelspec": {
   "display_name": "Python 3 (ipykernel)",
   "language": "python",
   "name": "python3"
  },
  "language_info": {
   "codemirror_mode": {
    "name": "ipython",
    "version": 3
   },
   "file_extension": ".py",
   "mimetype": "text/x-python",
   "name": "python",
   "nbconvert_exporter": "python",
   "pygments_lexer": "ipython3",
   "version": "3.7.12"
  }
 },
 "nbformat": 4,
 "nbformat_minor": 5
}
