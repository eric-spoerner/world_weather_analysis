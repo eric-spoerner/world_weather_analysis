{
 "cells": [
  {
   "cell_type": "code",
   "execution_count": 1,
   "id": "12a5ce83-90e7-4c26-bfa2-1df3d556071f",
   "metadata": {},
   "outputs": [],
   "source": [
    "import pandas as pd\n",
    "import matplotlib.pyplot as plt\n",
    "import numpy as np\n",
    "from citipy import citipy"
   ]
  },
  {
   "cell_type": "code",
   "execution_count": 2,
   "id": "0fcb14ce-6b5a-44f1-8f92-9fecb16d78a1",
   "metadata": {},
   "outputs": [
    {
     "data": {
      "text/plain": [
       "<zip at 0x1e6d05782c8>"
      ]
     },
     "execution_count": 2,
     "metadata": {},
     "output_type": "execute_result"
    }
   ],
   "source": [
    "lats = np.random.uniform(low=-90, high=90, size=1500)\n",
    "longs = np.random.uniform(low=-180, high=90, size=1500)\n",
    "lat_longs = zip(lats, longs)\n",
    "lat_longs"
   ]
  },
  {
   "cell_type": "code",
   "execution_count": 3,
   "id": "822f6ac2-e33e-4811-9fa4-4fe7702f6e6b",
   "metadata": {},
   "outputs": [],
   "source": [
    "coordinates = list(lat_longs)"
   ]
  },
  {
   "cell_type": "code",
   "execution_count": 6,
   "id": "f62a8d22-b601-4261-baa8-6361f26fdc67",
   "metadata": {},
   "outputs": [
    {
     "data": {
      "text/plain": [
       "566"
      ]
     },
     "execution_count": 6,
     "metadata": {},
     "output_type": "execute_result"
    }
   ],
   "source": [
    "cities = list()\n",
    "\n",
    "for coordinate in coordinates:\n",
    "    city = citipy.nearest_city(latitude=coordinate[0], longitude=coordinate[1])\n",
    "    if city not in cities:\n",
    "        cities.append(city)\n",
    "        \n",
    "len(cities)"
   ]
  },
  {
   "cell_type": "code",
   "execution_count": null,
   "id": "c8411bd0-98cd-47a3-9b33-e95514d130e0",
   "metadata": {},
   "outputs": [],
   "source": []
  }
 ],
 "metadata": {
  "kernelspec": {
   "display_name": "PythonData",
   "language": "python",
   "name": "pythondata"
  },
  "language_info": {
   "codemirror_mode": {
    "name": "ipython",
    "version": 3
   },
   "file_extension": ".py",
   "mimetype": "text/x-python",
   "name": "python",
   "nbconvert_exporter": "python",
   "pygments_lexer": "ipython3",
   "version": "3.7.11"
  }
 },
 "nbformat": 4,
 "nbformat_minor": 5
}
